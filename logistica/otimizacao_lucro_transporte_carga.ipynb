{
 "cells": [
  {
   "cell_type": "markdown",
   "metadata": {},
   "source": [
    "# **OBJETIVO**\n",
    "##### Escolher quais itens levar para maximizar o valor total, sem ultrapassar o peso e o volume disponíveis."
   ]
  },
  {
   "cell_type": "markdown",
   "metadata": {},
   "source": [
    "# Bibliotecas"
   ]
  },
  {
   "cell_type": "code",
   "execution_count": 540,
   "metadata": {},
   "outputs": [],
   "source": [
    "import pandas as pd\n",
    "from geneticalgorithm import geneticalgorithm as ga"
   ]
  },
  {
   "cell_type": "markdown",
   "metadata": {},
   "source": [
    "# Dados"
   ]
  },
  {
   "cell_type": "code",
   "execution_count": 541,
   "metadata": {},
   "outputs": [
    {
     "data": {
      "text/html": [
       "<div>\n",
       "<style scoped>\n",
       "    .dataframe tbody tr th:only-of-type {\n",
       "        vertical-align: middle;\n",
       "    }\n",
       "\n",
       "    .dataframe tbody tr th {\n",
       "        vertical-align: top;\n",
       "    }\n",
       "\n",
       "    .dataframe thead th {\n",
       "        text-align: right;\n",
       "    }\n",
       "</style>\n",
       "<table border=\"1\" class=\"dataframe\">\n",
       "  <thead>\n",
       "    <tr style=\"text-align: right;\">\n",
       "      <th></th>\n",
       "      <th>ID</th>\n",
       "      <th>PESO</th>\n",
       "      <th>VALOR</th>\n",
       "      <th>VOLUME</th>\n",
       "    </tr>\n",
       "  </thead>\n",
       "  <tbody>\n",
       "    <tr>\n",
       "      <th>0</th>\n",
       "      <td>1</td>\n",
       "      <td>342</td>\n",
       "      <td>1136</td>\n",
       "      <td>32</td>\n",
       "    </tr>\n",
       "    <tr>\n",
       "      <th>1</th>\n",
       "      <td>2</td>\n",
       "      <td>305</td>\n",
       "      <td>5349</td>\n",
       "      <td>48</td>\n",
       "    </tr>\n",
       "    <tr>\n",
       "      <th>2</th>\n",
       "      <td>3</td>\n",
       "      <td>442</td>\n",
       "      <td>8487</td>\n",
       "      <td>26</td>\n",
       "    </tr>\n",
       "    <tr>\n",
       "      <th>3</th>\n",
       "      <td>4</td>\n",
       "      <td>944</td>\n",
       "      <td>4190</td>\n",
       "      <td>25</td>\n",
       "    </tr>\n",
       "    <tr>\n",
       "      <th>4</th>\n",
       "      <td>5</td>\n",
       "      <td>881</td>\n",
       "      <td>6644</td>\n",
       "      <td>47</td>\n",
       "    </tr>\n",
       "  </tbody>\n",
       "</table>\n",
       "</div>"
      ],
      "text/plain": [
       "   ID  PESO  VALOR  VOLUME\n",
       "0   1   342   1136      32\n",
       "1   2   305   5349      48\n",
       "2   3   442   8487      26\n",
       "3   4   944   4190      25\n",
       "4   5   881   6644      47"
      ]
     },
     "execution_count": 541,
     "metadata": {},
     "output_type": "execute_result"
    }
   ],
   "source": [
    "dados= pd.read_csv(\"Itens.csv\", sep=';')\n",
    "dados.head()"
   ]
  },
  {
   "cell_type": "markdown",
   "metadata": {},
   "source": [
    "# Resumo Dados"
   ]
  },
  {
   "cell_type": "code",
   "execution_count": 542,
   "metadata": {},
   "outputs": [
    {
     "name": "stdout",
     "output_type": "stream",
     "text": [
      "Quantidade de Itens: 20\n",
      "Peso Total: 9205\n",
      "Volume Total: 649\n",
      "Valor Total: 115609\n"
     ]
    }
   ],
   "source": [
    "print(f'Quantidade de Itens: {len(dados)}')\n",
    "print(f'Peso Total: {dados.PESO.sum()}')\n",
    "print(f'Volume Total: {dados.VOLUME.sum()}')\n",
    "print(f'Valor Total: {dados.VALOR.sum()}')"
   ]
  },
  {
   "cell_type": "markdown",
   "metadata": {},
   "source": [
    "# Restrições"
   ]
  },
  {
   "cell_type": "code",
   "execution_count": null,
   "metadata": {},
   "outputs": [],
   "source": [
    "sobra_peso = 6000\n",
    "sobra_volume = 350\n",
    "iteracao = 10"
   ]
  },
  {
   "cell_type": "markdown",
   "metadata": {},
   "source": [
    "# Função de Avaliação/Ajuste"
   ]
  },
  {
   "cell_type": "code",
   "execution_count": 544,
   "metadata": {},
   "outputs": [],
   "source": [
    "def avaliacao(x, dados, max_volume, max_peso):\n",
    "    itens_selecionados = dados.iloc[x.astype(bool), :]\n",
    "    total_peso = itens_selecionados.PESO.sum()\n",
    "    total_volume = itens_selecionados.VOLUME.sum()\n",
    "\n",
    "    if total_peso > max_peso or total_volume > max_volume:\n",
    "        return -1\n",
    "    else:\n",
    "        return -itens_selecionados.VALOR.sum()"
   ]
  },
  {
   "cell_type": "markdown",
   "metadata": {},
   "source": [
    "# Configuração do Algoritmo Genético"
   ]
  },
  {
   "cell_type": "code",
   "execution_count": 545,
   "metadata": {},
   "outputs": [],
   "source": [
    "algorithm_param = {\n",
    "    'max_num_iteration': iteracao,\n",
    "    'population_size': 100,\n",
    "    'mutation_probability': 0.1,\n",
    "    'elit_ratio': 0.01,\n",
    "    'crossover_probability': 0.5,\n",
    "    'parents_portion': 0.3,\n",
    "    'crossover_type': 'uniform',\n",
    "    'max_iteration_without_improv': None\n",
    "}\n",
    "\n",
    "varbound = [[0, 1]] * len(dados)"
   ]
  },
  {
   "cell_type": "markdown",
   "metadata": {},
   "source": [
    "# Modelo"
   ]
  },
  {
   "cell_type": "code",
   "execution_count": 546,
   "metadata": {},
   "outputs": [],
   "source": [
    "model = ga(\n",
    "    function=lambda x: avaliacao(x, dados, sobra_volume, sobra_peso),\n",
    "    dimension=len(dados),\n",
    "    variable_type='bool',\n",
    "    variable_boundaries=varbound,\n",
    "    algorithm_parameters=algorithm_param\n",
    ")"
   ]
  },
  {
   "cell_type": "markdown",
   "metadata": {},
   "source": [
    "# Execução"
   ]
  },
  {
   "cell_type": "code",
   "execution_count": 547,
   "metadata": {},
   "outputs": [
    {
     "name": "stdout",
     "output_type": "stream",
     "text": [
      " The best solution found:                                                                           \n",
      " [0. 0. 1. 1. 0. 0. 1. 1. 1. 0. 1. 1. 1. 1. 0. 1. 0. 1. 1. 0.]\n",
      "\n",
      " Objective function:\n",
      " -82582.0\n"
     ]
    },
    {
     "data": {
      "image/png": "[encoded data removed]",
      "text/plain": [
       "<Figure size 640x480 with 1 Axes>"
      ]
     },
     "metadata": {},
     "output_type": "display_data"
    }
   ],
   "source": [
    "model.run()"
   ]
  },
  {
   "cell_type": "markdown",
   "metadata": {},
   "source": [
    "# Solução"
   ]
  },
  {
   "cell_type": "code",
   "execution_count": 548,
   "metadata": {},
   "outputs": [],
   "source": [
    "solucao = dados.iloc[model.output_dict['variable'].astype(bool), :]"
   ]
  },
  {
   "cell_type": "markdown",
   "metadata": {},
   "source": [
    "# Resultados"
   ]
  },
  {
   "cell_type": "code",
   "execution_count": 549,
   "metadata": {},
   "outputs": [
    {
     "name": "stdout",
     "output_type": "stream",
     "text": [
      "\n",
      "Resultados da Otimização\n",
      "    ID  PESO  VALOR  VOLUME\n",
      "2    3   442   8487      26\n",
      "3    4   944   4190      25\n",
      "6    7   315   6675      40\n",
      "7    8   450   5529      27\n",
      "8    9   111   5905      40\n",
      "10  11   255   4307      16\n",
      "11  12   515   8568      23\n",
      "12  13   545   4498      24\n",
      "13  14   909   8542      32\n",
      "15  16   410   9620      16\n",
      "17  18    57   6638      49\n",
      "18  19   753   9623      20\n",
      "Quantidade Final: 12\n",
      "Peso Total: 5706\n",
      "Volume Final: 338\n",
      "Valor Total: 82582\n"
     ]
    }
   ],
   "source": [
    "print('\\nResultados da Otimização')\n",
    "print(solucao)\n",
    "print(f'Quantidade Final: {len(solucao)}')\n",
    "print(f'Peso Total: {solucao.PESO.sum()}')\n",
    "print(f'Volume Final: {solucao.VOLUME.sum()}')\n",
    "print(f'Valor Total: {solucao.VALOR.sum()}')"
   ]
  }
 ],
 "metadata": {
  "kernelspec": {
   "display_name": ".venv",
   "language": "python",
   "name": "python3"
  },
  "language_info": {
   "codemirror_mode": {
    "name": "ipython",
    "version": 3
   },
   "file_extension": ".py",
   "mimetype": "text/x-python",
   "name": "python",
   "nbconvert_exporter": "python",
   "pygments_lexer": "ipython3",
   "version": "3.12.3"
  }
 },
 "nbformat": 4,
 "nbformat_minor": 2
}
